{
 "cells": [
  {
   "cell_type": "markdown",
   "metadata": {},
   "source": [
    "# UPM Epigentic Clock Example\n",
    "\n",
    "For this demo I am using data 450k data pulled from GEO. [GSE41169](ftp://ftp.ncbi.nlm.nih.gov/geo/series/GSE41nnn/GSE41169/matrix/GSE41169_series_matrix.txt.gz) was deposited by Steve Horvath and includes age information for validation. \n",
    "\n",
    "## Library Import"
   ]
  },
  {
   "cell_type": "code",
   "execution_count": 50,
   "metadata": {},
   "outputs": [],
   "source": [
    "import pandas as pd\n",
    "import numpy as np\n",
    "import matplotlib.pyplot as plt\n",
    "import seaborn as sns\n",
    "from sklearn.linear_model import Ridge\n",
    "from scipy import optimize"
   ]
  },
  {
   "cell_type": "code",
   "execution_count": 6,
   "metadata": {},
   "outputs": [],
   "source": [
    "# modify the system path and import the UPM code\n",
    "import sys\n",
    "sys.path.append('~/EpigeneticClock_UniversalPaceMaker')\n",
    "from UPMRun import MethylationEM"
   ]
  },
  {
   "cell_type": "markdown",
   "metadata": {},
   "source": [
    "## Open and Parse the Series Matrix File"
   ]
  },
  {
   "cell_type": "code",
   "execution_count": 8,
   "metadata": {},
   "outputs": [],
   "source": [
    "# path set to local file \n",
    "series_matrix_files = 'GSE41169_series_matrix.txt'"
   ]
  },
  {
   "cell_type": "code",
   "execution_count": 9,
   "metadata": {},
   "outputs": [
    {
     "name": "stdout",
     "output_type": "stream",
     "text": [
      "[32.0, 24.0, 65.0, 25.0, 32.0, 30.0, 21.0, 21.0, 21.0, 24.0, 24.0, 34.0, 36.0, 65.0, 49.0, 20.0, 29.0, 33.0, 24.0, 45.0, 32.0, 29.0, 35.0, 30.0, 47.0, 32.0, 36.0, 27.0, 23.0, 26.0, 38.0, 28.0, 30.0, 21.0, 26.0, 24.0, 34.0, 40.0, 37.0, 48.0, 31.0, 25.0, 63.0, 18.0, 32.0, 31.0, 33.0, 25.0, 20.0, 41.0, 28.0, 36.0, 45.0, 32.0, 25.0, 37.0, 46.0, 36.0, 52.0, 35.0, 39.0, 22.0, 32.0, 19.0, 23.0, 30.0, 40.0, 34.0, 29.0, 54.0, 36.0, 19.0, 52.0, 25.0, 50.0, 24.0, 27.0, 27.0, 20.0, 29.0, 26.0, 32.0, 25.0, 27.0, 20.0, 25.0, 24.0, 18.0, 20.0, 26.0, 27.0, 29.0, 29.0, 29.0, 23.0]\n",
      "485650\n"
     ]
    }
   ],
   "source": [
    "ages = []\n",
    "meth_matrix = []\n",
    "meth_matrix_begin = False\n",
    "\n",
    "count = 0\n",
    "\n",
    "for line in open(series_matrix_files, 'r'):\n",
    "    count += 1\n",
    "    line_split = line.replace('\\n', '').split('\\t')\n",
    "    if line_split[0] == '!Sample_characteristics_ch1':\n",
    "        if 'age' in line_split[1]:\n",
    "            for sample in line_split[1:]:\n",
    "                age = float(sample.strip('\"').split(' ')[1])\n",
    "                ages.append(age)\n",
    "    if meth_matrix_begin:\n",
    "        meth_matrix.append(line_split)\n",
    "    if line_split[0] == '!series_matrix_table_begin':\n",
    "        meth_matrix_begin = True\n",
    "print(ages)\n",
    "print(count)"
   ]
  },
  {
   "cell_type": "markdown",
   "metadata": {},
   "source": [
    "## Get Methylation Dataframe Object\n",
    "- Selecting sites using ridge regression"
   ]
  },
  {
   "cell_type": "code",
   "execution_count": 10,
   "metadata": {},
   "outputs": [],
   "source": [
    "meth_df = pd.DataFrame(data=meth_matrix[1:-1])\n",
    "meth_df.columns = meth_matrix[0]\n",
    "meth_df = meth_df.set_index('\"ID_REF\"')\n",
    "meth_df = meth_df.apply(pd.to_numeric)\n",
    "meth_df = meth_df.dropna(axis=0)"
   ]
  },
  {
   "cell_type": "code",
   "execution_count": 33,
   "metadata": {},
   "outputs": [],
   "source": [
    "ridge_default_params = {'alpha':1.0, 'fit_intercept':True, 'normalize':False, 'copy_X':True, 'max_iter':100, 'tol':0.0001, 'solver':'auto', 'random_state':None}"
   ]
  },
  {
   "cell_type": "code",
   "execution_count": 41,
   "metadata": {},
   "outputs": [],
   "source": [
    "ridge_sites = []\n",
    "\n",
    "ridge = Ridge(**ridge_default_params)\n",
    "ridge.fit(meth_df.T.values, ages)\n",
    "for site, coef in zip(meth_df.index, ridge.coef_):\n",
    "    if coef > 0.05:\n",
    "        ridge_sites.append(site)"
   ]
  },
  {
   "cell_type": "code",
   "execution_count": 42,
   "metadata": {},
   "outputs": [
    {
     "data": {
      "text/plain": [
       "137"
      ]
     },
     "execution_count": 42,
     "metadata": {},
     "output_type": "execute_result"
    }
   ],
   "source": [
    "len(ridge_sites)"
   ]
  },
  {
   "cell_type": "code",
   "execution_count": 43,
   "metadata": {},
   "outputs": [],
   "source": [
    "# keep only ridge sites and drop other to clear memory\n",
    "meth_df = meth_df.loc[ridge_sites]"
   ]
  },
  {
   "cell_type": "markdown",
   "metadata": {},
   "source": [
    "### Biomarker Implementation"
   ]
  },
  {
   "cell_type": "code",
   "execution_count": 44,
   "metadata": {},
   "outputs": [],
   "source": [
    "# fit model \n",
    "age_em = MethylationEM(methylation_table=meth_df.values.tolist(),\n",
    "                        sample_list=list(meth_df),\n",
    "                        site_list=list(meth_df.index),\n",
    "                        times=ages,\n",
    "                        iter_limit=100,\n",
    "                        err_tolerance=0.00001)"
   ]
  },
  {
   "cell_type": "code",
   "execution_count": 48,
   "metadata": {},
   "outputs": [],
   "source": [
    "pace_maker_ages = age_em.UPM_EC_EM_results['PM_times']"
   ]
  },
  {
   "cell_type": "code",
   "execution_count": 51,
   "metadata": {},
   "outputs": [],
   "source": [
    "# define a function to fit the UPM age to chronological age trend line\n",
    "def func(x, a, b, c):\n",
    "    return a * np.log(x) + c"
   ]
  },
  {
   "cell_type": "code",
   "execution_count": 52,
   "metadata": {},
   "outputs": [
    {
     "name": "stderr",
     "output_type": "stream",
     "text": [
      "/Library/Frameworks/Python.framework/Versions/3.6/lib/python3.6/site-packages/scipy/optimize/minpack.py:785: OptimizeWarning: Covariance of the parameters could not be estimated\n",
      "  category=OptimizeWarning)\n"
     ]
    }
   ],
   "source": [
    "# scipy curve fitting\n",
    "popt, pcov = optimize.curve_fit(func, ages, pace_maker_ages)"
   ]
  },
  {
   "cell_type": "code",
   "execution_count": 57,
   "metadata": {},
   "outputs": [
    {
     "data": {
      "image/png": "[encoded data removed]",
      "text/plain": [
       "<matplotlib.figure.Figure at 0x209db6518>"
      ]
     },
     "metadata": {},
     "output_type": "display_data"
    }
   ],
   "source": [
    "fig, ax = plt.subplots(figsize=(12,12))\n",
    "plt.title('UPM Age vs Chronological Age')\n",
    "sns.scatterplot(x=ages, y=pace_maker_ages, ax=ax)\n",
    "plt.plot(sorted(ages), func(sorted(ages), *popt), 'r--', label=\"Fitted Curve\")\n",
    "plt.xlabel('Chronological Age')\n",
    "plt.ylabel('UPM Age')\n",
    "plt.savefig('UPM_Example', dpi=300)\n",
    "plt.show()"
   ]
  }
 ],
 "metadata": {
  "kernelspec": {
   "display_name": "Python 3",
   "language": "python",
   "name": "python3"
  },
  "language_info": {
   "codemirror_mode": {
    "name": "ipython",
    "version": 3
   },
   "file_extension": ".py",
   "mimetype": "text/x-python",
   "name": "python",
   "nbconvert_exporter": "python",
   "pygments_lexer": "ipython3",
   "version": "3.6.1"
  }
 },
 "nbformat": 4,
 "nbformat_minor": 2
}
